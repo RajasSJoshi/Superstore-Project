{
    "metadata": {
        "kernelspec": {
            "name": "SQL",
            "display_name": "SQL",
            "language": "sql"
        },
        "language_info": {
            "name": "sql",
            "version": ""
        }
    },
    "nbformat_minor": 2,
    "nbformat": 4,
    "cells": [
        {
            "cell_type": "markdown",
            "source": [
                "# **Superstore SQL Scripts**"
            ],
            "metadata": {
                "azdata_cell_guid": "d5b68eb4-c09e-48d6-bc82-37fb2d464bd8"
            },
            "attachments": {}
        },
        {
            "cell_type": "markdown",
            "source": [
                "## **STATEWISE SALES**"
            ],
            "metadata": {
                "azdata_cell_guid": "e1d17170-c71e-4e10-945b-348c9c1ac975"
            },
            "attachments": {}
        },
        {
            "cell_type": "code",
            "source": [
                "USE Superstore\r\n",
                "GO\r\n",
                "SELECT TOP 5\r\n",
                "    State,\r\n",
                "    ROUND(SUM(Sales), 2) as TotalSales\r\n",
                "FROM\r\n",
                "    dbo.[Sample - Superstore]\r\n",
                "GROUP BY\r\n",
                "    State \r\n",
                "ORDER BY\r\n",
                "    TotalSales DESC;"
            ],
            "metadata": {
                "azdata_cell_guid": "0a561986-4cb8-42c8-9ec0-cfa5629e6656",
                "language": "sql"
            },
            "outputs": [
                {
                    "output_type": "display_data",
                    "data": {
                        "text/html": "Commands completed successfully."
                    },
                    "metadata": {}
                },
                {
                    "output_type": "display_data",
                    "data": {
                        "text/html": "(5 rows affected)"
                    },
                    "metadata": {}
                },
                {
                    "output_type": "display_data",
                    "data": {
                        "text/html": "Total execution time: 00:00:00.105"
                    },
                    "metadata": {}
                },
                {
                    "output_type": "execute_result",
                    "execution_count": 1,
                    "data": {
                        "application/vnd.dataresource+json": {
                            "schema": {
                                "fields": [
                                    {
                                        "name": "State"
                                    },
                                    {
                                        "name": "TotalSales"
                                    }
                                ]
                            },
                            "data": [
                                {
                                    "State": "California",
                                    "TotalSales": "457687.63"
                                },
                                {
                                    "State": "New York",
                                    "TotalSales": "310876.27"
                                },
                                {
                                    "State": "Texas",
                                    "TotalSales": "170188.05"
                                },
                                {
                                    "State": "Washington",
                                    "TotalSales": "138641.27"
                                },
                                {
                                    "State": "Pennsylvania",
                                    "TotalSales": "116511.91"
                                }
                            ]
                        },
                        "text/html": "<table><tr><th>State</th><th>TotalSales</th></tr><tr><td>California</td><td>457687.63</td></tr><tr><td>New York</td><td>310876.27</td></tr><tr><td>Texas</td><td>170188.05</td></tr><tr><td>Washington</td><td>138641.27</td></tr><tr><td>Pennsylvania</td><td>116511.91</td></tr></table>"
                    },
                    "metadata": {}
                }
            ],
            "execution_count": 1
        },
        {
            "cell_type": "markdown",
            "source": [
                "### **EXPLAINATION -**\n",
                "\n",
                "The SQL code retrieves the top five states with the highest total sales from the \"Superstore\" database. It **calculates and rounds** the sales figures to two decimal places, grouping the results by state. This concise query provides insights into the leading contributors to the overall sales landscape."
            ],
            "metadata": {
                "azdata_cell_guid": "81ea27a2-ab97-4864-9eb2-99009766123c"
            },
            "attachments": {}
        },
        {
            "cell_type": "markdown",
            "source": [
                "## **TOTAL SALES TO PROFIT BY YEAR**"
            ],
            "metadata": {
                "azdata_cell_guid": "ae086959-6a82-4700-bdd1-2e162088b066"
            },
            "attachments": {}
        },
        {
            "cell_type": "code",
            "source": [
                "SELECT\r\n",
                "    YEAR(Order_Date) AS SaleYear,\r\n",
                "    ROUND(SUM(Profit), 1) AS Profit,\r\n",
                "    ROUND(SUM(Sales), 1) AS TotalSales\r\n",
                "FROM\r\n",
                "    dbo.[Sample - Superstore]\r\n",
                "GROUP BY\r\n",
                "    YEAR(Order_Date)\r\n",
                "ORDER BY\r\n",
                "    SaleYear;"
            ],
            "metadata": {
                "azdata_cell_guid": "fcacf972-aa5d-4322-9c7b-00b79cf3f8c2",
                "language": "sql"
            },
            "outputs": [
                {
                    "output_type": "display_data",
                    "data": {
                        "text/html": "Warning: Null value is eliminated by an aggregate or other SET operation."
                    },
                    "metadata": {}
                },
                {
                    "output_type": "display_data",
                    "data": {
                        "text/html": "(4 rows affected)"
                    },
                    "metadata": {}
                },
                {
                    "output_type": "display_data",
                    "data": {
                        "text/html": "Total execution time: 00:00:00.017"
                    },
                    "metadata": {}
                },
                {
                    "output_type": "execute_result",
                    "execution_count": 2,
                    "data": {
                        "application/vnd.dataresource+json": {
                            "schema": {
                                "fields": [
                                    {
                                        "name": "SaleYear"
                                    },
                                    {
                                        "name": "Profit"
                                    },
                                    {
                                        "name": "TotalSales"
                                    }
                                ]
                            },
                            "data": [
                                {
                                    "SaleYear": "2014",
                                    "Profit": "49544",
                                    "TotalSales": "484247.5"
                                },
                                {
                                    "SaleYear": "2015",
                                    "Profit": "61618.6",
                                    "TotalSales": "470532.5"
                                },
                                {
                                    "SaleYear": "2016",
                                    "Profit": "81796.4",
                                    "TotalSales": "609205.6"
                                },
                                {
                                    "SaleYear": "2017",
                                    "Profit": "93859.3",
                                    "TotalSales": "733215.3"
                                }
                            ]
                        },
                        "text/html": "<table><tr><th>SaleYear</th><th>Profit</th><th>TotalSales</th></tr><tr><td>2014</td><td>49544</td><td>484247.5</td></tr><tr><td>2015</td><td>61618.6</td><td>470532.5</td></tr><tr><td>2016</td><td>81796.4</td><td>609205.6</td></tr><tr><td>2017</td><td>93859.3</td><td>733215.3</td></tr></table>"
                    },
                    "metadata": {}
                }
            ],
            "execution_count": 2
        },
        {
            "cell_type": "markdown",
            "source": [
                "### **EXPLAINATION -**\n",
                "\n",
                "<span style=\"color: var(--vscode-foreground);\">This SQL query summarizes annual profits and total sales from the \"Superstore\" table, grouping the results by year and ordering them accordingly. It offers a quick overview of financial performance over different years.</span>\n",
                "\n",
                "WARNING - \"Null value is eliminated by an aggregate or other SET operation\" typically occurs when you use aggregate functions like SUM() or COUNT() on a column that contains NULL values. The warning is essentially informing you that NULL values are being treated as zero (0) during the aggregation process.\n",
                "\n",
                "<span style=\"color: var(--vscode-foreground);\">For example, In this query, if you have a column with some NULL values and you use SUM(Profit) or SUM(Sales) in your query, the database will interpret NULL as zero for the purpose of the summation, and the warning is generated to inform you of this behavior.</span>"
            ],
            "metadata": {
                "azdata_cell_guid": "d7fe9c78-2548-4075-9288-1e6d7db21876"
            },
            "attachments": {}
        },
        {
            "cell_type": "markdown",
            "source": [
                "## **SALES AND PROFIT BY CATEGORY**"
            ],
            "metadata": {
                "azdata_cell_guid": "36dcdd92-4b51-4483-9891-31ab3e347745"
            },
            "attachments": {}
        },
        {
            "cell_type": "code",
            "source": [
                "SELECT\r\n",
                "    Category,\r\n",
                "    ROUND(SUM(Sales), 1) AS TotalSales,\r\n",
                "    ROUND(SUM(Profit), 1) AS TotalProfit\r\n",
                "FROM\r\n",
                "    dbo.[Sample - Superstore]\r\n",
                "GROUP BY\r\n",
                "    Category\r\n",
                "ORDER BY\r\n",
                "    Category;"
            ],
            "metadata": {
                "azdata_cell_guid": "f7172462-a2b8-4d6c-beb4-38d952e8ab82",
                "language": "sql"
            },
            "outputs": [
                {
                    "output_type": "display_data",
                    "data": {
                        "text/html": "Warning: Null value is eliminated by an aggregate or other SET operation."
                    },
                    "metadata": {}
                },
                {
                    "output_type": "display_data",
                    "data": {
                        "text/html": "(3 rows affected)"
                    },
                    "metadata": {}
                },
                {
                    "output_type": "display_data",
                    "data": {
                        "text/html": "Total execution time: 00:00:00.035"
                    },
                    "metadata": {}
                },
                {
                    "output_type": "execute_result",
                    "execution_count": 3,
                    "data": {
                        "application/vnd.dataresource+json": {
                            "schema": {
                                "fields": [
                                    {
                                        "name": "Category"
                                    },
                                    {
                                        "name": "TotalSales"
                                    },
                                    {
                                        "name": "TotalProfit"
                                    }
                                ]
                            },
                            "data": [
                                {
                                    "Category": "Furniture",
                                    "TotalSales": "741999.8",
                                    "TotalProfit": "18871.3"
                                },
                                {
                                    "Category": "Office Supplies",
                                    "TotalSales": "719047",
                                    "TotalProfit": "122492"
                                },
                                {
                                    "Category": "Technology",
                                    "TotalSales": "836154",
                                    "TotalProfit": "145454.9"
                                }
                            ]
                        },
                        "text/html": "<table><tr><th>Category</th><th>TotalSales</th><th>TotalProfit</th></tr><tr><td>Furniture</td><td>741999.8</td><td>18871.3</td></tr><tr><td>Office Supplies</td><td>719047</td><td>122492</td></tr><tr><td>Technology</td><td>836154</td><td>145454.9</td></tr></table>"
                    },
                    "metadata": {}
                }
            ],
            "execution_count": 3
        },
        {
            "cell_type": "markdown",
            "source": [
                "### **EXPLAINATION -**\n",
                "\n",
                "<span style=\"color: var(--vscode-foreground);\">The provided SQL query serves to aggregate and summarize sales and profit data from the \"Superstore\". The data is organized by distinct product categories, offering a clear breakdown of total sales and total profit for each category. The <b>ROUND</b> function is applied to round the aggregated values to one decimal place. The <b>GROUP BY </b>clause is used to group the data based on the \"Category\". The final output is then ordered alphabetically by category for improved readability.&nbsp;</span>"
            ],
            "metadata": {
                "azdata_cell_guid": "e124c5ff-aa06-4efe-a784-1ccae4d7f82b"
            },
            "attachments": {}
        },
        {
            "cell_type": "markdown",
            "source": [
                "## **STATEWISE SALES WITH AVERAGE SALES AND CATEGORIZATION**"
            ],
            "metadata": {
                "azdata_cell_guid": "e136cbe9-d8c0-48d8-9cb9-f08de744480c"
            },
            "attachments": {}
        },
        {
            "cell_type": "code",
            "source": [
                "SELECT TOP 10\r\n",
                "    State,\r\n",
                "    ROUND(AVG(Sales), 1) AS AverageSales,\r\n",
                "    CASE\r\n",
                "        WHEN AVG(Sales) > OverallAverage THEN 'High Sales'\r\n",
                "        WHEN AVG(Sales) < OverallAverage THEN 'Low Sales'\r\n",
                "        ELSE 'Average Sales'\r\n",
                "    END AS SalesCategory\r\n",
                "FROM (\r\n",
                "    SELECT\r\n",
                "        State,\r\n",
                "        AVG(Sales) OVER () AS OverallAverage,\r\n",
                "        Sales\r\n",
                "    FROM\r\n",
                "        dbo.[Sample - Superstore]\r\n",
                ") AS Subquery\r\n",
                "GROUP BY\r\n",
                "    State, OverallAverage\r\n",
                ";"
            ],
            "metadata": {
                "azdata_cell_guid": "8dfe9a3c-3f6d-4686-9dd0-858bfa373371",
                "language": "sql"
            },
            "outputs": [
                {
                    "output_type": "display_data",
                    "data": {
                        "text/html": "(10 rows affected)"
                    },
                    "metadata": {}
                },
                {
                    "output_type": "display_data",
                    "data": {
                        "text/html": "Total execution time: 00:00:00.070"
                    },
                    "metadata": {}
                },
                {
                    "output_type": "execute_result",
                    "execution_count": 9,
                    "data": {
                        "application/vnd.dataresource+json": {
                            "schema": {
                                "fields": [
                                    {
                                        "name": "State"
                                    },
                                    {
                                        "name": "AverageSales"
                                    },
                                    {
                                        "name": "SalesCategory"
                                    }
                                ]
                            },
                            "data": [
                                {
                                    "State": "Alabama",
                                    "AverageSales": "319.8",
                                    "SalesCategory": "High Sales"
                                },
                                {
                                    "State": "Arizona",
                                    "AverageSales": "157.5",
                                    "SalesCategory": "Low Sales"
                                },
                                {
                                    "State": "Arkansas",
                                    "AverageSales": "194.6",
                                    "SalesCategory": "Low Sales"
                                },
                                {
                                    "State": "California",
                                    "AverageSales": "228.7",
                                    "SalesCategory": "Low Sales"
                                },
                                {
                                    "State": "Colorado",
                                    "AverageSales": "176.4",
                                    "SalesCategory": "Low Sales"
                                },
                                {
                                    "State": "Connecticut",
                                    "AverageSales": "163.2",
                                    "SalesCategory": "Low Sales"
                                },
                                {
                                    "State": "Delaware",
                                    "AverageSales": "285.9",
                                    "SalesCategory": "High Sales"
                                },
                                {
                                    "State": "District of Columbia",
                                    "AverageSales": "286.5",
                                    "SalesCategory": "High Sales"
                                },
                                {
                                    "State": "Florida",
                                    "AverageSales": "233.6",
                                    "SalesCategory": "High Sales"
                                },
                                {
                                    "State": "Georgia",
                                    "AverageSales": "266.8",
                                    "SalesCategory": "High Sales"
                                }
                            ]
                        },
                        "text/html": "<table><tr><th>State</th><th>AverageSales</th><th>SalesCategory</th></tr><tr><td>Alabama</td><td>319.8</td><td>High Sales</td></tr><tr><td>Arizona</td><td>157.5</td><td>Low Sales</td></tr><tr><td>Arkansas</td><td>194.6</td><td>Low Sales</td></tr><tr><td>California</td><td>228.7</td><td>Low Sales</td></tr><tr><td>Colorado</td><td>176.4</td><td>Low Sales</td></tr><tr><td>Connecticut</td><td>163.2</td><td>Low Sales</td></tr><tr><td>Delaware</td><td>285.9</td><td>High Sales</td></tr><tr><td>District of Columbia</td><td>286.5</td><td>High Sales</td></tr><tr><td>Florida</td><td>233.6</td><td>High Sales</td></tr><tr><td>Georgia</td><td>266.8</td><td>High Sales</td></tr></table>"
                    },
                    "metadata": {}
                }
            ],
            "execution_count": 9
        },
        {
            "cell_type": "markdown",
            "source": [
                "### **Explaination -**\n",
                "\n",
                "This SQL query aims to analyze and categorize the 10 states with the average sales based on the <span style=\"color: var(--vscode-foreground);\">\"Superstore\". The inner <b>\"Subquery,\"</b> is employed to calculate the overall average&nbsp;</span>  <span style=\"color: var(--vscode-foreground);\">sales for all states using the window function <b>AVG(Sales) OVER ()</b>. This overall average is then utilized in the outer&nbsp;</span>  <span style=\"color: var(--vscode-foreground);\">query, where the main focus is on the states. For each state, the query calculates and rounds the average sales,&nbsp;</span>  <span style=\"color: var(--vscode-foreground);\">and subsequently categorizes the state as 'High Sales' if its average sales exceed the overall average, 'Low Sales' if it&nbsp;</span>  <span style=\"color: var(--vscode-foreground);\">falls below the overall average, and 'Average Sales' otherwise.&nbsp;&nbsp;</span>    <span style=\"color: var(--vscode-foreground);\">This query serves as a valuable tool for identifying and understanding the sales dynamics of the states performance&nbsp;</span>  <span style=\"color: var(--vscode-foreground);\">in the specified dataset.</span>"
            ],
            "metadata": {
                "azdata_cell_guid": "896b224f-1c19-4e7e-9649-273e5f3c0df5"
            },
            "attachments": {}
        },
        {
            "cell_type": "markdown",
            "source": [
                "## **CUSTOMER BY SEGMENT**"
            ],
            "metadata": {
                "azdata_cell_guid": "14cfc329-2044-450d-9cb2-6f7f4526a50e"
            },
            "attachments": {}
        },
        {
            "cell_type": "code",
            "source": [
                "SELECT\r\n",
                "    Segment,\r\n",
                "    COUNT(DISTINCT Customer_ID) AS TotalConsumers\r\n",
                "FROM\r\n",
                "   dbo.[Sample - Superstore]\r\n",
                "GROUP BY\r\n",
                "    Segment;"
            ],
            "metadata": {
                "azdata_cell_guid": "a019e986-32cd-4140-ae42-97897b636227",
                "language": "sql"
            },
            "outputs": [
                {
                    "output_type": "display_data",
                    "data": {
                        "text/html": "(3 rows affected)"
                    },
                    "metadata": {}
                },
                {
                    "output_type": "display_data",
                    "data": {
                        "text/html": "Total execution time: 00:00:00.021"
                    },
                    "metadata": {}
                },
                {
                    "output_type": "execute_result",
                    "execution_count": 10,
                    "data": {
                        "application/vnd.dataresource+json": {
                            "schema": {
                                "fields": [
                                    {
                                        "name": "Segment"
                                    },
                                    {
                                        "name": "TotalConsumers"
                                    }
                                ]
                            },
                            "data": [
                                {
                                    "Segment": "Corporate",
                                    "TotalConsumers": "236"
                                },
                                {
                                    "Segment": "Home Office",
                                    "TotalConsumers": "148"
                                },
                                {
                                    "Segment": "Consumer",
                                    "TotalConsumers": "409"
                                }
                            ]
                        },
                        "text/html": "<table><tr><th>Segment</th><th>TotalConsumers</th></tr><tr><td>Corporate</td><td>236</td></tr><tr><td>Home Office</td><td>148</td></tr><tr><td>Consumer</td><td>409</td></tr></table>"
                    },
                    "metadata": {}
                }
            ],
            "execution_count": 10
        },
        {
            "cell_type": "markdown",
            "source": [
                "### **EXPLAINATION -**\n",
                "\n",
                "This SQL query extracts the count of distinct consumers in each segment from the \"Superstore\". The **COUNT(DISTINCT Customer\\_ID)** expression tallies unique customer IDs within each segment, offering a concise overview of consumer distribution across market segments in the dataset."
            ],
            "metadata": {
                "azdata_cell_guid": "83990f64-34a3-4df4-a4af-e13f3e45f4f1"
            },
            "attachments": {}
        }
    ]
}